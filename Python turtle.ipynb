{
 "cells": [
  {
   "cell_type": "code",
   "execution_count": 7,
   "id": "7fde0638",
   "metadata": {},
   "outputs": [],
   "source": [
    "import turtle"
   ]
  },
  {
   "cell_type": "code",
   "execution_count": 8,
   "id": "c6c25503",
   "metadata": {},
   "outputs": [],
   "source": [
    "# Creating turtle\n",
    "t = turtle.Turtle()\n",
    "s = turtle.Screen()\n",
    "s.bgcolor(\"black\")\n",
    "t.pencolor(\"green\")"
   ]
  },
  {
   "cell_type": "code",
   "execution_count": null,
   "id": "95b10a4b",
   "metadata": {},
   "outputs": [],
   "source": [
    "a = 0\n",
    "b = 0\n",
    "t.speed(0)\n",
    "t.penup()\n",
    "t.goto(0,200)\n",
    "t.pendown()\n",
    "while(True):\n",
    "    t.forward(a)\n",
    "    t.right(b)\n",
    "    a+=3\n",
    "    b+=1\n",
    "    if b ==210:\n",
    "        break\n",
    "    t.hideturtle()\n",
    "    \n",
    "    \n",
    "turtle.done()"
   ]
  },
  {
   "cell_type": "code",
   "execution_count": null,
   "id": "7461c02a",
   "metadata": {},
   "outputs": [],
   "source": []
  },
  {
   "cell_type": "code",
   "execution_count": null,
   "id": "ec135b8e",
   "metadata": {},
   "outputs": [],
   "source": []
  }
 ],
 "metadata": {
  "kernelspec": {
   "display_name": "Python 3",
   "language": "python",
   "name": "python3"
  },
  "language_info": {
   "codemirror_mode": {
    "name": "ipython",
    "version": 3
   },
   "file_extension": ".py",
   "mimetype": "text/x-python",
   "name": "python",
   "nbconvert_exporter": "python",
   "pygments_lexer": "ipython3",
   "version": "3.8.8"
  }
 },
 "nbformat": 4,
 "nbformat_minor": 5
}
